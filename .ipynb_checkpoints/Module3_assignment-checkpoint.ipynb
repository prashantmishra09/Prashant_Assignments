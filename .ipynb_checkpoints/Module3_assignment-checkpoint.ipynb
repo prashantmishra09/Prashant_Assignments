{
 "cells": [
  {
   "cell_type": "code",
   "execution_count": 6,
   "id": "08217d8d",
   "metadata": {},
   "outputs": [
    {
     "name": "stdout",
     "output_type": "stream",
     "text": [
      "[[35, 75], {89, 9}, {'prashant': 'mishra'}, (5, 40), 10.1, 99]\n"
     ]
    }
   ],
   "source": [
    "# [1]. What is List? How will you reverse a list?\n",
    "# -> List is a type of collection datatype.\n",
    "# -> it is used to store multiple items is single veriables.\n",
    "# -> it is Mutable datatype And supports all datatypes in it.  \n",
    "\n",
    "# syntex - [99, 10.10, (5,40), {'prashant':'mishra'}, {89,9}, [35,75]]\n",
    "\n",
    "# -> To reverse a list you can use Reverse method.\n",
    "\n",
    "li = [99, 10.10, (5,40), {'prashant':'mishra'}, {89,9}, [35,75]]\n",
    "li.reverse()\n",
    "print(li)"
   ]
  },
  {
   "cell_type": "code",
   "execution_count": 7,
   "id": "46191cda",
   "metadata": {},
   "outputs": [
    {
     "name": "stdout",
     "output_type": "stream",
     "text": [
      "[1, 2, 3, 4, 5]\n"
     ]
    }
   ],
   "source": [
    "# [2]. How will you remove last object from a list?\n",
    "\n",
    "li = [1,2,3,4,5,'Ronak']\n",
    "li.pop() #pop method can remove last itration in the list \n",
    "print(li)"
   ]
  },
  {
   "cell_type": "code",
   "execution_count": 13,
   "id": "3d255224",
   "metadata": {},
   "outputs": [
    {
     "name": "stdout",
     "output_type": "stream",
     "text": [
      "25\n"
     ]
    }
   ],
   "source": [
    "# [3]. Suppose list1 is [2, 33, 222, 14, and 25], what is list1 [-1]?\n",
    "\n",
    "list1 = [2, 33, 222, 14, 25]\n",
    "print(list1[-1]) #[-1] it's show the last itration in ths list"
   ]
  },
  {
   "cell_type": "code",
   "execution_count": 18,
   "id": "fb1edc0f",
   "metadata": {},
   "outputs": [
    {
     "name": "stdout",
     "output_type": "stream",
     "text": [
      "Append -  [2, 3, 4, [5, 6]]\n",
      "Extend -  [2, 3, 4, 5, 6]\n"
     ]
    }
   ],
   "source": [
    "# [4]. Differentiate between append () and extend () methods?\n",
    "\n",
    "# Append - Change inline and append value in the list at the end.\n",
    "list1 = [2,3,4]\n",
    "list1.append([5,6])\n",
    "print(\"Append - \" ,list1)\n",
    "\n",
    "# Extend - Extend the element in the list at the last.\n",
    "list1 = [2,3,4]\n",
    "list1.extend([5,6])\n",
    "print(\"Extend - \" , list1)"
   ]
  },
  {
   "cell_type": "code",
   "execution_count": 22,
   "id": "ac0da130",
   "metadata": {},
   "outputs": [
    {
     "name": "stdout",
     "output_type": "stream",
     "text": [
      "Largest Number is -  1999\n",
      "Smallest Number is -  -80\n",
      "Sum of all from list -  3337\n"
     ]
    }
   ],
   "source": [
    "# [5]. Write a Python function to get the largest number,smallest num and sum of all from a list.\n",
    "\n",
    "list1=[1,32,43,55,-80,89,199,1999,999]\n",
    "list1.sort()\n",
    "largest_number = list1[-1]\n",
    "smallest_number = list1[0]\n",
    "Sum = 0\n",
    "\n",
    "for i in list1:\n",
    "    Sum+=i\n",
    "print('Largest Number is - ',largest_number)\n",
    "print('Smallest Number is - ', smallest_number)\n",
    "print('Sum of all from list - ',Sum)\n",
    "    "
   ]
  },
  {
   "cell_type": "code",
   "execution_count": 25,
   "id": "ecf9f726",
   "metadata": {},
   "outputs": [
    {
     "name": "stdout",
     "output_type": "stream",
     "text": [
      "Enter the size of list - 3\n",
      "Enter The Value For List1 - 12\n",
      "Enter The Value For List1 - 13\n",
      "Enter The Value For List1 - 15\n",
      "Enter The Value For list2 - 15\n",
      "Enter The Value For list2 - 13\n",
      "Enter The Value For list2 - 12\n",
      "\n",
      "List1 =  [12, 13, 15]\n",
      "List2 =  [12, 13, 15]\n",
      "List Are Equel\n"
     ]
    }
   ],
   "source": [
    "# [6]. How will you compare two lists?\n",
    "\n",
    "# -> We Can Compare two lists using '==' Double Equal To Operator \n",
    "list1 = []\n",
    "list2 = []\n",
    "num = int(input(\"Enter the size of list - \"))\n",
    "for i in range(num):\n",
    "    list1.append(int(input(\"Enter The Value For List1 - \")))\n",
    "    list1.sort()\n",
    "    \n",
    "for j in range(num):\n",
    "    list2.append(int(input(\"Enter The Value For list2 - \")))\n",
    "    list2.sort()\n",
    "    \n",
    "print()\n",
    "print('List1 = ',list1)\n",
    "print('List2 = ',list2)\n",
    "\n",
    "if list1 == list2: #Compareing two lists using == operator \n",
    "    print('List Are Equel')\n",
    "else:\n",
    "    print('List Are Not Equel')"
   ]
  },
  {
   "cell_type": "code",
   "execution_count": 32,
   "id": "6d73fd13",
   "metadata": {},
   "outputs": [
    {
     "name": "stdout",
     "output_type": "stream",
     "text": [
      "Enter String Here - oppo is phone and pop is and song \n",
      "['oppo', 'pop']\n"
     ]
    }
   ],
   "source": [
    "# [7].Write a Python program to count the number of strings \n",
    "# where the string length is 2 or more and \n",
    "# the first and last character are same from a given list of strings.\n",
    "\n",
    "str1 = input(\"Enter String Here - \")\n",
    "str_split = str1.split()\n",
    "str2 = []\n",
    "for i in str_split:\n",
    "    if len(i)>=2:\n",
    "        if i[0]==i[-1]:\n",
    "            str2+=[i]\n",
    "if str2 == []:\n",
    "    print()\n",
    "else:\n",
    "    print(str2)"
   ]
  },
  {
   "cell_type": "code",
   "execution_count": 35,
   "id": "a251dcd2",
   "metadata": {},
   "outputs": [
    {
     "name": "stdout",
     "output_type": "stream",
     "text": [
      "{1, 2, 4, 5, 774, 51, 124}\n"
     ]
    }
   ],
   "source": [
    "# [8].Write a Python program to remove duplicates from a list.\n",
    "\n",
    "list1 = [1,2,2,51,5,1,5,4,774,124]\n",
    "li = set(list1)\n",
    "print(li)"
   ]
  },
  {
   "cell_type": "code",
   "execution_count": 1,
   "id": "fdba9246",
   "metadata": {},
   "outputs": [
    {
     "name": "stdout",
     "output_type": "stream",
     "text": [
      "List is empty.\n"
     ]
    }
   ],
   "source": [
    "# [9] Write a Python program to check a list is empty or not.\n",
    "\n",
    "l1=[]\n",
    "if l1==[]:\n",
    "    print('List is empty.')\n",
    "else:\n",
    "    print('List is not empty.')"
   ]
  },
  {
   "cell_type": "code",
   "execution_count": 1,
   "id": "027ee2ae",
   "metadata": {},
   "outputs": [
    {
     "name": "stdout",
     "output_type": "stream",
     "text": [
      "Enter size of list: 2\n",
      "list 1: 78\n",
      "list 1: 96\n",
      "list 2: 78\n",
      "list 2: 98\n",
      "True\n"
     ]
    }
   ],
   "source": [
    "# [10] Write a Python function that takes two lists and returns true if they have at least one common member.\n",
    "\n",
    "l1=[]\n",
    "l2=[]\n",
    "n=int(input('Enter size of list: '))\n",
    "for i in range (n):\n",
    "    l1.append(int(input('list 1: ')))\n",
    "for j in range (n):\n",
    "    l2.append(int(input('list 2: ')))\n",
    "for m in l1:\n",
    "    for n in l2:\n",
    "        if m==n:\n",
    "            print('True')"
   ]
  },
  {
   "cell_type": "code",
   "execution_count": 2,
   "id": "0d687450",
   "metadata": {},
   "outputs": [
    {
     "name": "stdout",
     "output_type": "stream",
     "text": [
      "Sq of first five:  [1, 4, 9, 16, 25]\n",
      "Sq of last five:   [625, 676, 729, 784, 841]\n"
     ]
    }
   ],
   "source": [
    "# [11] Write a Python program to generate and print a list of first and last 5 elements \n",
    "#      where the values are square of numbers between 1 and 30.\n",
    "\n",
    "l=[]\n",
    "for i in range(1,30):\n",
    "    l.append(i**2)\n",
    "print('Sq of first five: ',l[:5])\n",
    "print('Sq of last five:  ',l[-5:])"
   ]
  },
  {
   "cell_type": "code",
   "execution_count": 4,
   "id": "44aa9436",
   "metadata": {},
   "outputs": [
    {
     "name": "stdout",
     "output_type": "stream",
     "text": [
      "Enter size of list: 5\n",
      "Enter Elements: 10\n",
      "Enter Elements: 20\n",
      "Enter Elements: 50\n",
      "Enter Elements: 10\n",
      "Enter Elements: 20\n",
      "\n",
      "Unique Elements:  [10, 20, 50]\n"
     ]
    }
   ],
   "source": [
    "# [12] Write a Python function that takes a list and returns a new list with unique elements of the first list.\n",
    "\n",
    "l1=[]\n",
    "l2=[]\n",
    "n=int(input('Enter size of list: '))\n",
    "for i in range(n):\n",
    "    l1.append(int(input('Enter Elements: ')))\n",
    "for i in l1:\n",
    "    if i not in l2:\n",
    "        l2.append(i)\n",
    "print('\\nUnique Elements: ',l2)"
   ]
  },
  {
   "cell_type": "code",
   "execution_count": 6,
   "id": "8e18ef24",
   "metadata": {},
   "outputs": [
    {
     "name": "stdout",
     "output_type": "stream",
     "text": [
      "Enter String: p r a s h a n t \n",
      "List:  ['p', 'r', 'a', 's', 'h', 'a', 'n', 't', '']\n",
      "String:  prashant\n"
     ]
    }
   ],
   "source": [
    "# [13] Write a Python program to convert a list of characters into a string.\n",
    "\n",
    "l1=input('Enter String: ')\n",
    "l2=l1.split(' ')\n",
    "n=''\n",
    "for i in l2:\n",
    "    n+=i\n",
    "print('List: ',l2)\n",
    "print('String: ',n)"
   ]
  },
  {
   "cell_type": "code",
   "execution_count": 11,
   "id": "910d69ff",
   "metadata": {},
   "outputs": [
    {
     "name": "stdout",
     "output_type": "stream",
     "text": [
      "Enter Size of List: 8\n",
      "Enter List: p\n",
      "Enter List: r\n",
      "Enter List: a\n",
      "Enter List: s\n",
      "Enter List: h\n",
      "Enter List: a\n",
      "Enter List: n\n",
      "Enter List: t\n",
      "\n",
      "Random Element:  p\n"
     ]
    }
   ],
   "source": [
    "# [14] Write a Python program to select an item randomly from a list.\n",
    "\n",
    "l1=[]\n",
    "n=int(input(\"Enter Size of List: \"))\n",
    "for i in range(n):\n",
    "    l1.append(input('Enter List: '))\n",
    "s=set(l1)\n",
    "d=s.pop()\n",
    "print('\\nRandom Element: ',d)"
   ]
  },
  {
   "cell_type": "code",
   "execution_count": 12,
   "id": "d054e3c1",
   "metadata": {},
   "outputs": [
    {
     "name": "stdout",
     "output_type": "stream",
     "text": [
      "Enter Size of List: 4\n",
      "Enter List: 10\n",
      "Enter List: 50\n",
      "Enter List: 20\n",
      "Enter List: 8\n",
      "[8, 10, 20, 50]\n",
      "\n",
      "Second Smallest Number is:  10\n"
     ]
    }
   ],
   "source": [
    "# [15] Write a Python program to find the second smallest number in a list.\n",
    "\n",
    "l1=[]\n",
    "n=int(input(\"Enter Size of List: \"))\n",
    "for i in range(n):\n",
    "    l1.append(int(input('Enter List: ')))\n",
    "l1.sort()\n",
    "print(l1)\n",
    "print('\\nSecond Smallest Number is: ',l1[1])"
   ]
  },
  {
   "cell_type": "code",
   "execution_count": 13,
   "id": "a24de174",
   "metadata": {},
   "outputs": [
    {
     "name": "stdout",
     "output_type": "stream",
     "text": [
      "Enter Size of List: 4\n",
      "Enter List: 6\n",
      "Enter List: 45\n",
      "Enter List: 89\n",
      "Enter List: 45\n",
      "[6, 45, 89, 45]\n",
      "\n",
      "Unique List:  [89, 45, 6]\n"
     ]
    }
   ],
   "source": [
    "# [16] Write a Python program to get unique values from a list.\n",
    "\n",
    "l1=[]\n",
    "n=int(input(\"Enter Size of List: \"))\n",
    "for i in range(n):\n",
    "    l1.append(int(input('Enter List: ')))\n",
    "print(l1)\n",
    "s1=set(l1)\n",
    "s2=list(s1)\n",
    "print('\\nUnique List: ',s2)"
   ]
  },
  {
   "cell_type": "code",
   "execution_count": 10,
   "id": "de498096",
   "metadata": {},
   "outputs": [
    {
     "name": "stdout",
     "output_type": "stream",
     "text": [
      "Enter Size of Original List: 4\n",
      "Enter numbers of Original List: 45\n",
      "Enter numbers of Original List: 45\n",
      "Enter numbers of Original List: 78\n",
      "Enter numbers of Original List: 78\n",
      "\n",
      "Enter Size of Sublist: 3\n",
      "Enter numbers of Sublist: 78\n",
      "Enter numbers of Sublist: 45\n",
      "Enter numbers of Sublist: 85\n",
      "\n",
      "Original List:  [45, 45, 78, 78]\n",
      "Sublist:  [78, 45, 85]\n",
      "False, Original list does not contain sub list.\n"
     ]
    }
   ],
   "source": [
    "# [17] Write a Python program to check whether a list contains a sub list.\n",
    "\n",
    "l1=[]\n",
    "n1=int(input('Enter Size of Original List: '))\n",
    "for i in range(n1):\n",
    "    l1.append(int(input('Enter numbers of Original List: ')))\n",
    "l2=[]\n",
    "n2=int(input('\\nEnter Size of Sublist: '))\n",
    "for j in range(n2):\n",
    "    l2.append(int(input('Enter numbers of Sublist: ')))\n",
    "print('\\nOriginal List: ',l1)\n",
    "print('Sublist: ',l2)\n",
    "l3=[]\n",
    "for m in l2:\n",
    "    if m in l1:\n",
    "        l3.append(m)\n",
    "if (l3==l2):\n",
    "    print('True, Origial list contains sub list.')\n",
    "else:\n",
    "    print('False, Original list does not contain sub list.')"
   ]
  },
  {
   "cell_type": "code",
   "execution_count": 11,
   "id": "1ce3ca1b",
   "metadata": {},
   "outputs": [
    {
     "name": "stdout",
     "output_type": "stream",
     "text": [
      "('Prashant', 'Mishra')\n",
      "('Python', 'Django')\n",
      "('MySQL', 'Database')\n"
     ]
    }
   ],
   "source": [
    "# [18] Write a Python program to split a list into different variables.\n",
    "\n",
    "origin=[('Prashant', 'Mishra'), ('Python','Django'), ('MySQL','Database')]\n",
    "a1,a2,a3= origin\n",
    "print(a1)\n",
    "print(a2)\n",
    "print(a3)"
   ]
  },
  {
   "cell_type": "code",
   "execution_count": 12,
   "id": "fd2a3dea",
   "metadata": {},
   "outputs": [],
   "source": [
    "# [19] What is tuple? Difference between list and tuple.\n",
    "\n",
    "# Tuple is a type of collection datatype. \n",
    "# It is used to store multiple value in single variable.\n",
    "# Syntax:    variable_name = (element1, element2) \n",
    "\n",
    "# Main difference between List and Tuple:\n",
    "# List is immutable datatype where Tuple is Mutable datatype."
   ]
  },
  {
   "cell_type": "code",
   "execution_count": 18,
   "id": "bf2126f9",
   "metadata": {},
   "outputs": [
    {
     "name": "stdout",
     "output_type": "stream",
     "text": [
      "(5, 8.88, 'Python', (6.66, 5.56), ['Django', 7.56], {'apple': 'a fruit'}, True)\n"
     ]
    }
   ],
   "source": [
    "# [20] Write a Python program to create a tuple with different data types.\n",
    "\n",
    "t1=(5, 8.88, 'Python', (6.66,5.56), ['Django',7.56], {'apple': 'a fruit'}, True)\n",
    "print(t1)"
   ]
  },
  {
   "cell_type": "code",
   "execution_count": 21,
   "id": "4a3a3184",
   "metadata": {},
   "outputs": [
    {
     "name": "stdout",
     "output_type": "stream",
     "text": [
      "(1, 2, 3, 4, 5)\n"
     ]
    }
   ],
   "source": [
    "# [21] Write a Python program to create a tuple with numbers.\n",
    "\n",
    "t1=1,2,3,4,5\n",
    "print(t1)"
   ]
  },
  {
   "cell_type": "code",
   "execution_count": 22,
   "id": "f877d3e6",
   "metadata": {},
   "outputs": [
    {
     "name": "stdout",
     "output_type": "stream",
     "text": [
      "Enter Anything: prashant\n",
      "Tuple:  ('p', 'r', 'a', 's', 'h', 'a', 'n', 't')\n",
      "String:  prashant\n"
     ]
    }
   ],
   "source": [
    "# [22] Write a Python program to convert a tuple to a string.\n",
    "\n",
    "\n",
    "t1=input('Enter Anything: ')\n",
    "s= tuple(t1)\n",
    "d= ''.join(s)\n",
    "print('Tuple: ',s)\n",
    "print('String: ',d)"
   ]
  },
  {
   "cell_type": "code",
   "execution_count": 23,
   "id": "5f3e6894",
   "metadata": {},
   "outputs": [
    {
     "name": "stdout",
     "output_type": "stream",
     "text": [
      "Enter Size of Original Tuple: 4\n",
      "Ori_Tup Value: 45\n",
      "Ori_Tup Value: 78\n",
      "Ori_Tup Value: 54\n",
      "Ori_Tup Value: 65\n",
      "\n",
      "Enter Size of Sub Tuple: 2\n",
      "Sub_Tup Value: 54\n",
      "Sub_Tup Value: 65\n",
      "\n",
      "Original Tuple:  (54, 65, 45, 78)\n",
      "Sub Tuple:  (65, 54)\n",
      "\n",
      "True\n"
     ]
    }
   ],
   "source": [
    "# [23] Write a Python program to check whether an element exists within a tuple.\n",
    "\n",
    "l1=[]\n",
    "n1=int(input(\"Enter Size of Original Tuple: \"))\n",
    "for i in range(n1):\n",
    "    l1.append(int(input('Ori_Tup Value: ')))\n",
    "    ans1=set(l1)\n",
    "    a1=tuple(ans1)\n",
    "l2=[]\n",
    "n2=int(input(\"\\nEnter Size of Sub Tuple: \"))\n",
    "for j in range(n2):\n",
    "    l2.append(int(input('Sub_Tup Value: ')))\n",
    "    ans2=set(l2)\n",
    "    a2=tuple(ans2)\n",
    "print('\\nOriginal Tuple: ',a1)\n",
    "print('Sub Tuple: ',a2)\n",
    "\n",
    "if ans2.issubset(ans1):\n",
    "    print('\\nTrue')\n",
    "else:\n",
    "    print('\\nFalse')"
   ]
  },
  {
   "cell_type": "code",
   "execution_count": 33,
   "id": "01a93c22",
   "metadata": {},
   "outputs": [
    {
     "name": "stdout",
     "output_type": "stream",
     "text": [
      "5\n"
     ]
    }
   ],
   "source": [
    "# [24] Write a Python program to find the length of a tuple.\n",
    "\n",
    "t1=('Python', 5.56, 7, [1,2], {'a':1})\n",
    "print(len(t1))"
   ]
  },
  {
   "cell_type": "code",
   "execution_count": 37,
   "id": "f92e4af0",
   "metadata": {},
   "outputs": [
    {
     "name": "stdout",
     "output_type": "stream",
     "text": [
      "(2, 5.56, 'python', (1, 2), [78, 96], {'a': 45})\n"
     ]
    }
   ],
   "source": [
    "# [25] Write a Python program to convert a list to a tuple.\n",
    "\n",
    "l1=[2, 5.56, 'python', (1,2), [78, 96], {'a':45}]\n",
    "print(tuple(l1))"
   ]
  },
  {
   "cell_type": "code",
   "execution_count": 40,
   "id": "fb6ead0b",
   "metadata": {},
   "outputs": [
    {
     "name": "stdout",
     "output_type": "stream",
     "text": [
      "(6, 5, 4, 3, 2, 1)\n"
     ]
    }
   ],
   "source": [
    "# [26] Write a Python program to reverse a tuple.\n",
    "\n",
    "# Method - 1\n",
    "t1=(1,2,3,4,5,6)\n",
    "g=t1[::-1]\n",
    "print(g)\n",
    "\n",
    "# Method - 2\n",
    "# t1=(1,2,3,4,5,6)\n",
    "# s=list(t1)\n",
    "# s.reverse()\n",
    "# print(tuple(s))"
   ]
  },
  {
   "cell_type": "code",
   "execution_count": 42,
   "id": "0ab42655",
   "metadata": {},
   "outputs": [
    {
     "name": "stdout",
     "output_type": "stream",
     "text": [
      "Enter anything: prashant mishra\n",
      "[(1, 2, 'prashant mishra'), (4, 5, 'prashant mishra'), (7, 8, 'prashant mishra')]\n"
     ]
    }
   ],
   "source": [
    "# [27] Write a Python program to replace last value of tuples in a list.\n",
    "\n",
    "a=input('Enter anything: ')\n",
    "l1=[]\n",
    "t1=[(1,2,3), (4,5,6), (7,8,9)]\n",
    "for i in t1:\n",
    "    l1.append(list(i))\n",
    "for j in l1:\n",
    "    j.remove(j[-1])\n",
    "    j.append(a)\n",
    "l2=[]\n",
    "for m in l1:\n",
    "    s=tuple(m)\n",
    "    for n in s:\n",
    "        l2.append(s)\n",
    "l3=[]\n",
    "for k in l2:\n",
    "    if k not in l3:\n",
    "        l3.append(k)\n",
    "print(l3)"
   ]
  },
  {
   "cell_type": "code",
   "execution_count": 44,
   "id": "28e8a533",
   "metadata": {},
   "outputs": [
    {
     "name": "stdout",
     "output_type": "stream",
     "text": [
      "(3, 4, 6, 7, 9)\n"
     ]
    }
   ],
   "source": [
    "# [28] Write a Python program to find the repeated items of a tuple.\n",
    "\n",
    "l1=[]\n",
    "l2=[]\n",
    "t1=(1,2,3,3,4,4,5,6,6,7,7,8,9,9,10)\n",
    "m=list(t1)\n",
    "for i in m:\n",
    "    if i not in l1:\n",
    "        l1.append(i)\n",
    "    elif i not in l2:\n",
    "        l2.append(i)\n",
    "print(tuple(l2)) "
   ]
  },
  {
   "cell_type": "code",
   "execution_count": 47,
   "id": "0f61d18e",
   "metadata": {},
   "outputs": [
    {
     "name": "stdout",
     "output_type": "stream",
     "text": [
      "[(1, 2, 3), (4, 5, 6), (7, 8, 9)]\n"
     ]
    }
   ],
   "source": [
    "#[29] Write a Python program to remove an empty tuple(s) from a list of tuples.\n",
    "\n",
    "t1=[(1,2,3), (),(4,5,6), (7,8,9)]\n",
    "for i in t1:\n",
    "    if i==():\n",
    "        t1.remove(i)\n",
    "print(t1)"
   ]
  },
  {
   "cell_type": "code",
   "execution_count": 49,
   "id": "979545c5",
   "metadata": {},
   "outputs": [
    {
     "name": "stdout",
     "output_type": "stream",
     "text": [
      "('a', 'b', 'c', 'd', 'e')\n",
      "Enter any Variable to find it's Value: d\n",
      "d ==> ['d', 4]\n"
     ]
    }
   ],
   "source": [
    "# [30] Write a Python program to unzip a list of tuples into individual lists.\n",
    "\n",
    "t1=[('a', 1), ('b', 2), ('c',3), ('d',4), ('e',5)]\n",
    "# t= list(map(list, t1))\n",
    "a=97\n",
    "b=a+len(t1)\n",
    "c=[]\n",
    "for i in range(a,b):\n",
    "    c.append(chr(i))\n",
    "k=tuple(c)\n",
    "print(k)\n",
    "d=list(zip(c,t1))\n",
    "e=dict(d)\n",
    "f=input(\"Enter any Variable to find it's Value: \")\n",
    "g=e.get(f)\n",
    "print(f,list(g), sep=' ==> ')"
   ]
  },
  {
   "cell_type": "code",
   "execution_count": 52,
   "id": "88a89d99",
   "metadata": {},
   "outputs": [
    {
     "name": "stdout",
     "output_type": "stream",
     "text": [
      "{'a': 10, 'b': 20, 'c': 30, 'd': 50}\n"
     ]
    }
   ],
   "source": [
    "# [31] Write a Python program to convert a list of tuples into a dictionary.\n",
    "\n",
    "l = [('a', 10), ('b', 20), ('c', 30), ('d', 40), ('d', 50)]\n",
    "print(dict(l))"
   ]
  },
  {
   "cell_type": "code",
   "execution_count": 57,
   "id": "0580005e",
   "metadata": {},
   "outputs": [
    {
     "name": "stdout",
     "output_type": "stream",
     "text": [
      "{'a': 10, 'b': 20, 'c': 30, 'd': 50}\n"
     ]
    }
   ],
   "source": [
    "# [32] How will you create a dictionary using tuples in python?\n",
    "\n",
    "l1 = [('a', 10), ('b', 20), ('c', 30), ('d', 40), ('d', 50)]\n",
    "# print(dict(l))    ---- or ----\n",
    "d1={}\n",
    "d1.update((l1))\n",
    "print(d1)"
   ]
  },
  {
   "cell_type": "code",
   "execution_count": 62,
   "id": "6394fecd",
   "metadata": {},
   "outputs": [
    {
     "name": "stdout",
     "output_type": "stream",
     "text": [
      "Ascending:  {'c': 12, 'a': 23, 'e': 44, 'b': 55, 'd': 78}\n",
      "Descending:  {'d': 78, 'b': 55, 'e': 44, 'a': 23, 'c': 12}\n"
     ]
    }
   ],
   "source": [
    "# [33] Write a Python script to sort (ascending and descending) a dictionary by value.\n",
    "\n",
    "l1= {'a': 23, 'b': 55, 'c': 12, 'd': 78, 'e': 44}\n",
    "m= list(l1.items())\n",
    "m.sort(key=lambda x: x[-1])\n",
    "x=print('Ascending: ',dict(m))\n",
    "n= list(l1.items())\n",
    "n.sort(key=lambda x: x[-1], reverse =True)\n",
    "y=print('Descending: ',dict(n))"
   ]
  },
  {
   "cell_type": "code",
   "execution_count": 66,
   "id": "7b911654",
   "metadata": {},
   "outputs": [
    {
     "name": "stdout",
     "output_type": "stream",
     "text": [
      "{'a': 10, 'b': 20, 'c': 10, 'd': 20, 'e': 10, 'f': 20}\n"
     ]
    }
   ],
   "source": [
    "# [34] Write a Python script to concatenate following dictionaries to create a new one.\n",
    "\n",
    "l1={'a': 10, 'b': 20}\n",
    "l2={'c': 10, 'd': 20}\n",
    "l3={'e': 10, 'f': 20}\n",
    "l2.update(l3)\n",
    "l1.update(l2)\n",
    "print(l1) "
   ]
  },
  {
   "cell_type": "code",
   "execution_count": 68,
   "id": "dd35d168",
   "metadata": {},
   "outputs": [
    {
     "name": "stdout",
     "output_type": "stream",
     "text": [
      "Enter any Key: y\n",
      "Key does not exist.\n"
     ]
    }
   ],
   "source": [
    "# [35] Write a Python script to check if a given key already exists in a dictionary.\n",
    "\n",
    "l1= {'a': 10, 'b': 20, 'c': 30, 'd': 40, 'c': 50, 'e': 60}\n",
    "k=input('Enter any Key: ')\n",
    "if k in l1:\n",
    "    print('Key exist.')\n",
    "else:\n",
    "    print('Key does not exist.')"
   ]
  },
  {
   "cell_type": "code",
   "execution_count": 2,
   "id": "f5dddad2",
   "metadata": {},
   "outputs": [
    {
     "name": "stdout",
     "output_type": "stream",
     "text": [
      "Pairs of dictionary:  [('a', 10), ('b', 20), ('c', 50), ('d', 40), ('e', 60)]\n",
      "Keys in dictionary:  ['a', 'b', 'c', 'd', 'e']\n",
      "Values in dictionary:  [10, 20, 50, 40, 60]\n"
     ]
    }
   ],
   "source": [
    "# [36] How Do You Traverse Through A Dictionary Object In Python?\n",
    "\n",
    "l1= {'a': 10, 'b': 20, 'c': 30, 'd': 40, 'c': 50, 'e': 60}\n",
    "l2=list(l1.items())\n",
    "l3=list(l1.keys())\n",
    "l4=list(l1.values())\n",
    "print('Pairs of dictionary: ',l2)\n",
    "print('Keys in dictionary: ',l3)\n",
    "print('Values in dictionary: ',l4)"
   ]
  },
  {
   "cell_type": "code",
   "execution_count": 3,
   "id": "4bbe84df",
   "metadata": {},
   "outputs": [
    {
     "name": "stdout",
     "output_type": "stream",
     "text": [
      "Enter any Key: j\n",
      "Key does not exist.\n"
     ]
    }
   ],
   "source": [
    "# [37] How Do You Check The Presence Of A Key In A Dictionary?\n",
    "\n",
    "l1= {'a': 10, 'b': 20, 'c': 30, 'd': 40, 'c': 50, 'e': 60}\n",
    "k=input('Enter any Key: ')\n",
    "if k in l1:\n",
    "    print('Key exist.')\n",
    "else:\n",
    "    print('Key does not exist.')"
   ]
  },
  {
   "cell_type": "code",
   "execution_count": 6,
   "id": "ea9276b2",
   "metadata": {},
   "outputs": [
    {
     "name": "stdout",
     "output_type": "stream",
     "text": [
      "{8: 'C', 12: 'Python', 2: 'Database'}\n"
     ]
    }
   ],
   "source": [
    "# [38] Write a Python script to print a dictionary where the keys are numbers between 1 and 15.\n",
    "\n",
    "l1= {8:'C' , 46:'C++' , 12:'Python' , 56:'Djano', 34:'MySQL', 2:'Database'}\n",
    "k={}\n",
    "for i in l1:\n",
    "    if i in range(1, 15):\n",
    "        a=l1.get(i)\n",
    "        k.setdefault(i, a)\n",
    "print(k)"
   ]
  },
  {
   "cell_type": "code",
   "execution_count": 9,
   "id": "d31f5033",
   "metadata": {},
   "outputs": [
    {
     "name": "stdout",
     "output_type": "stream",
     "text": [
      "Multiple keys exist.\n"
     ]
    }
   ],
   "source": [
    "# [39] Write a Python program to check multiple keys exists in a dictionary.\n",
    "\n",
    "l1={1:'C', 2:'C++', 3:'python'}\n",
    "if i in l1:\n",
    "    if i>1:\n",
    "        print('Multiple keys exist.')"
   ]
  },
  {
   "cell_type": "code",
   "execution_count": 17,
   "id": "d7543319",
   "metadata": {},
   "outputs": [
    {
     "name": "stdout",
     "output_type": "stream",
     "text": [
      "{'a': 10, 'b': 20, 'c': 10, 'd': 20}\n"
     ]
    }
   ],
   "source": [
    "# [40] Write a Python script to merge two Python dictionaries.\n",
    "\n",
    "l1={'a': 10, 'b': 20}\n",
    "l2={'c': 10, 'd': 20}\n",
    "l1.update(l2)\n",
    "print(l1)"
   ]
  },
  {
   "cell_type": "code",
   "execution_count": 22,
   "id": "7b0f5d87",
   "metadata": {},
   "outputs": [
    {
     "name": "stdout",
     "output_type": "stream",
     "text": [
      "{'a': 1, 'b': 2, 'c': 3, 'd': 4}\n"
     ]
    }
   ],
   "source": [
    "# [41] Write a Python program to map two lists into a dictionary.\n",
    "\n",
    "l1=['a', 'b', 'c', 'd']\n",
    "l2=[1, 2, 3, 4]\n",
    "ans=print(dict(zip(l1, l2)))"
   ]
  },
  {
   "cell_type": "code",
   "execution_count": 30,
   "id": "06eabc9a",
   "metadata": {},
   "outputs": [
    {
     "name": "stdout",
     "output_type": "stream",
     "text": [
      "{'a': 400, 'b': 400, 'd': 400, 'c': 300}\n"
     ]
    }
   ],
   "source": [
    "# [42] Write a Python program to combine two dictionary adding values for common keys.\n",
    "#  o d1 = {'a': 100, 'b': 200, 'c':300}\n",
    "#  o d2 = {'a': 300, 'b': 200,’d’:400}\n",
    "#  Sample output: Counter ({'a': 400, 'b': 400,’d’: 400, 'c': 300}).\n",
    "\n",
    "d1 = {'a': 100, 'b': 200, 'c':300}\n",
    "d2 = {'a': 300, 'b': 200, 'd':400}\n",
    "for i in d1:\n",
    "    if i in d2:\n",
    "        d2[i]+=d1[i]\n",
    "for j in d1:\n",
    "    if j not in d2:\n",
    "        a=d1.get(i)\n",
    "        d2.setdefault(i, a)\n",
    "print(d2)"
   ]
  },
  {
   "cell_type": "code",
   "execution_count": 34,
   "id": "5272f4fc",
   "metadata": {},
   "outputs": [
    {
     "name": "stdout",
     "output_type": "stream",
     "text": [
      "{40, 10, 20, 50}\n"
     ]
    }
   ],
   "source": [
    "# [43] Write a Python program to print all unique values in a dictionary.\n",
    "\n",
    "l1= {'a': 10, 'b': 20, 'c': 10, 'd': 40, 'e': 50, 'f': 20}\n",
    "a=set(l1.values())\n",
    "print(a)"
   ]
  },
  {
   "cell_type": "code",
   "execution_count": 35,
   "id": "e8658b0c",
   "metadata": {},
   "outputs": [],
   "source": [
    "# [44] Why Do You Use the Zip () Method in Python?\n",
    "\n",
    "# Zip function returns an aggregate elements from two or more than two iterables.\n",
    "# It returns pairs in tuple. so can be easily used to create dictionary."
   ]
  },
  {
   "cell_type": "code",
   "execution_count": 40,
   "id": "3787d496",
   "metadata": {},
   "outputs": [
    {
     "name": "stdout",
     "output_type": "stream",
     "text": [
      "[['a', 'b'], ['c', 'd']]\n",
      "ac\n",
      "ad\n",
      "bc\n",
      "bd\n"
     ]
    }
   ],
   "source": [
    "# [45] Write a Python program to create and display all combinations of letters,\n",
    "#      selecting each letter from a different key in a dictionary.\n",
    "# o    Sample data: {'1': ['a','b'], '2': ['c','d']}\n",
    "# Expected Output:    ac ad bc bd\n",
    "\n",
    "x= {'1':['a', 'b'], '2':['c', 'd']}\n",
    "y= list(x.values())\n",
    "print(y)\n",
    "for i in y[0]:\n",
    "    for j in y[1]:\n",
    "        print(i,j, sep='')"
   ]
  },
  {
   "cell_type": "code",
   "execution_count": 45,
   "id": "18b5321c",
   "metadata": {},
   "outputs": [
    {
     "name": "stdout",
     "output_type": "stream",
     "text": [
      "[50, 40, 20]\n"
     ]
    }
   ],
   "source": [
    "# [46] Write a Python program to find the highest 3 values in a dictionary.\n",
    "\n",
    "l1= {'a': 10, 'b': 20, 'c': 10, 'd': 40, 'e': 50, 'f': 20}\n",
    "a=list(l1.values())\n",
    "k=sorted(a,reverse=True)\n",
    "print(k[:3])"
   ]
  },
  {
   "cell_type": "code",
   "execution_count": 49,
   "id": "d41a30cc",
   "metadata": {},
   "outputs": [
    {
     "name": "stdout",
     "output_type": "stream",
     "text": [
      "{'item1': 1150, 'item2': 300}\n"
     ]
    }
   ],
   "source": [
    "# [47] Write a Python program to combine values in python list of dictionaries.\n",
    "# Sample data: [{'item' : 'item1' , 'amount' : 400}, \n",
    "#               {'item' : 'item2' , 'amount' : 300}, \n",
    "#               {'item' : 'item1' , 'amount' : 750}]\n",
    "# o Expected Output: Counter ({'item1': 1150, 'item2': 300})\n",
    "\n",
    "k = {}\n",
    "l2 = []\n",
    "\n",
    "l1= [{'item' : 'item1' , 'amount' : 400}, {'item' : 'item2' , 'amount' : 300}, {'item' : 'item1' , 'amount' : 750}]\n",
    "for i in l1:\n",
    "    l2.append(tuple(i.values()))\n",
    "#  ===> l2= [('item1', 400), ('item2', 300), ('item1', 750)]\n",
    "\n",
    "for j in l2:\n",
    "    if j[0] not in k:\n",
    "        k[j[0]] = j[1]\n",
    "    else:\n",
    "        k[j[0]] += j[1]\n",
    "print(k)"
   ]
  },
  {
   "cell_type": "code",
   "execution_count": 52,
   "id": "52b9d0c8",
   "metadata": {},
   "outputs": [
    {
     "name": "stdout",
     "output_type": "stream",
     "text": [
      "{'w': 1, '3': 1, 'r': 2, 'e': 2, 's': 1, 'o': 1, 'u': 1, 'c': 1}\n"
     ]
    }
   ],
   "source": [
    "# [48] Write a Python program to create a dictionary from a string.\n",
    "#  o Note: Track the count of the letters from the string. Sample string: 'w3resource'\n",
    "#  o Expected output: {'3': 1,’s’: 1, 'r': 2, 'u': 1, 'w': 1, 'c': 1, 'e': 2, 'o': 1}\n",
    "\n",
    "a={}\n",
    "s1='w3resource'\n",
    "for i in s1:\n",
    "    if i not in a:\n",
    "        a[i]=1\n",
    "    else:\n",
    "        a[i]+=1\n",
    "print(a)"
   ]
  },
  {
   "cell_type": "code",
   "execution_count": 54,
   "id": "5a4adec7",
   "metadata": {},
   "outputs": [
    {
     "name": "stdout",
     "output_type": "stream",
     "text": [
      "Enter number to get factorial: 6\n",
      "720\n"
     ]
    }
   ],
   "source": [
    "# [49] Write a Python function to calculate the factorial of a number (a non-negative integer).\n",
    "\n",
    "# Method - 1\n",
    "def fact(n):\n",
    "    if n==0:\n",
    "        return 1\n",
    "    else:\n",
    "        return n*fact(n-1)\n",
    "n=int(input('Enter number to get factorial: '))\n",
    "s=fact(n)\n",
    "print(s)"
   ]
  },
  {
   "cell_type": "code",
   "execution_count": 55,
   "id": "c6f86ec1",
   "metadata": {},
   "outputs": [
    {
     "name": "stdout",
     "output_type": "stream",
     "text": [
      "Enter range a: 3\n",
      "Enter range b: 4\n",
      "Range: 3 - 4\n",
      "\n",
      "Enter any number:2\n",
      "Given number 2 is not in range.\n"
     ]
    }
   ],
   "source": [
    "# [50] Write a Python function to check whether a number is in a given range.\n",
    "\n",
    "n1=int(input('Enter range a: '))\n",
    "n2=int(input('Enter range b: '))\n",
    "print(f'Range: {n1} - {n2}')\n",
    "n=int(input('\\nEnter any number:'))\n",
    "if n in range(n1,n2):\n",
    "    print(f'Given number {n} is in range.')\n",
    "else:\n",
    "    print(f'Given number {n} is not in range.')"
   ]
  },
  {
   "cell_type": "code",
   "execution_count": 56,
   "id": "242aeb2c",
   "metadata": {},
   "outputs": [
    {
     "name": "stdout",
     "output_type": "stream",
     "text": [
      "Enter number: 7\n",
      "False\n"
     ]
    }
   ],
   "source": [
    "# [51] Write a Python function to check whether a number is perfect or not.\n",
    "\n",
    "n=int(input('Enter number: '))\n",
    "k=0\n",
    "for i in range(1,n):\n",
    "    if n%i==0 :\n",
    "        k=k+i\n",
    "if k==n:\n",
    "    print('True')\n",
    "else:\n",
    "    print('False')"
   ]
  },
  {
   "cell_type": "code",
   "execution_count": 59,
   "id": "11131de9",
   "metadata": {},
   "outputs": [
    {
     "name": "stdout",
     "output_type": "stream",
     "text": [
      "Enter anything: dad\n",
      "==> \"dad\" is Palindrome.\n"
     ]
    }
   ],
   "source": [
    "# [52]  Write a Python function that checks whether a passed string is palindrome or not.\n",
    "\n",
    "s=input('Enter anything: ')\n",
    "k=''\n",
    "for i in s:\n",
    "    k=i+k\n",
    "if s==k:\n",
    "    print(f'==> \"{k}\" is Palindrome.')\n",
    "else:\n",
    "    print(f'==> \"{k}\" is not Palindrome.')"
   ]
  },
  {
   "cell_type": "code",
   "execution_count": 61,
   "id": "25e3d751",
   "metadata": {},
   "outputs": [],
   "source": [
    "# [53] How do you perform pattern matching in Python? Explain.\n",
    "\n",
    "# There are five different functions provided in re module to perform pattern matching. They are as listed below.\n",
    "\n",
    "# Using re.search() Function\n",
    "# Using re.match() Function\n",
    "# Using re.fullmatch() Function\n",
    "# Using re.findall() Function\n",
    "# Using re.finditer() Function"
   ]
  },
  {
   "cell_type": "code",
   "execution_count": 64,
   "id": "310d67c1",
   "metadata": {},
   "outputs": [],
   "source": [
    "# [54] What is lambda function in python? What we call a function which is incomplete version of a function?\n",
    "\n",
    "# Lambda function is also called as Anonymous function or One-Liner function.\n",
    "# Normal functions are defined using \"def\" keyword,\n",
    "# while lambda/ Anonymous functions can be defined without a name means just by using \"lambda\" keyword."
   ]
  },
  {
   "cell_type": "code",
   "execution_count": 67,
   "id": "11780e68",
   "metadata": {},
   "outputs": [],
   "source": [
    "# [55] How Many Basic Types Of Functions Are Available In Python?\n",
    "\n",
    "# Mainly there are three types of functions.\n",
    "\n",
    "# [1] User Defined functions:  \n",
    "# [2] Built In functions: \n",
    "# [3] Anonymous/ Lambda/ One-Liner functions:"
   ]
  },
  {
   "cell_type": "code",
   "execution_count": 70,
   "id": "102efd58",
   "metadata": {},
   "outputs": [
    {
     "name": "stdout",
     "output_type": "stream",
     "text": [
      "(3, 8)\n"
     ]
    }
   ],
   "source": [
    "# [56] How can you pick a random item from a list or tuple?\n",
    "\n",
    "# Type Cast List of tuples in set & apply pop method.\n",
    "# It will return any random element from list of tuples.\n",
    "\n",
    "l1=[(5,6), (1,2), (3,6), (7,9), (3,8), (6,1)]\n",
    "l2=set(l1)\n",
    "l3=l2.pop()\n",
    "print(l3)"
   ]
  },
  {
   "cell_type": "code",
   "execution_count": 73,
   "id": "d3e1cb6f",
   "metadata": {},
   "outputs": [
    {
     "name": "stdout",
     "output_type": "stream",
     "text": [
      "Random item:  32\n"
     ]
    }
   ],
   "source": [
    "# [57] How can you pick a random item from a range?\n",
    "\n",
    "# Take empty list and append all elements of range in empty list.\n",
    "# Type cast list into set and use pop method to get any random element.\n",
    "\n",
    "s=[]\n",
    "for i in range (25, 33):\n",
    "    s.append(i)\n",
    "k=set(s)\n",
    "ans=k.pop()\n",
    "print('Random item: ',ans)"
   ]
  },
  {
   "cell_type": "code",
   "execution_count": 77,
   "id": "ccd456dc",
   "metadata": {},
   "outputs": [
    {
     "data": {
      "text/plain": [
       "35"
      ]
     },
     "execution_count": 77,
     "metadata": {},
     "output_type": "execute_result"
    }
   ],
   "source": [
    "# [58] How can you get a random number in python?\n",
    "\n",
    "# Use set method.\n",
    "\n",
    "s1={4,5,8,9,15,42,78,35,62}\n",
    "s1.pop()"
   ]
  },
  {
   "cell_type": "code",
   "execution_count": 2,
   "id": "ed15f9ba",
   "metadata": {},
   "outputs": [
    {
     "name": "stdout",
     "output_type": "stream",
     "text": [
      "Enter number: 42\n",
      "[42, 45, 89, 52, 63, 42, 73, 95, 41, 61, 54]\n"
     ]
    }
   ],
   "source": [
    "# [59] How will you set the starting value in generating random numbers?\n",
    "\n",
    "# We can set the starting value in list datatype only.\n",
    "# Use insert method and add value/ element at index value 0.\n",
    "# Now to get random number type cast list into set and apply pop mehod.\n",
    "\n",
    "s1=[45,89,52,63,42,73,95,41,61,54]\n",
    "n=int(input('Enter number: '))\n",
    "s1.insert(0, n)\n",
    "print(s1)"
   ]
  },
  {
   "cell_type": "code",
   "execution_count": 4,
   "id": "85f01ba4",
   "metadata": {},
   "outputs": [
    {
     "name": "stdout",
     "output_type": "stream",
     "text": [
      "[73, 42, 41, 45, 52, 54, 89, 61, 95, 63]\n"
     ]
    }
   ],
   "source": [
    "# [60] How will you randomizes the items of a list in place?\n",
    "\n",
    "# Use set method, because of it's \"unordered\" property.\n",
    "\n",
    "l1=[89, 45, 89, 52, 63, 42, 73, 95, 41, 61, 54]\n",
    "l2=set(l1)\n",
    "print(list(l2))"
   ]
  },
  {
   "cell_type": "code",
   "execution_count": 6,
   "id": "6f6b442b",
   "metadata": {},
   "outputs": [],
   "source": [
    "# [61] Write a Python program to read a random line from a file.\n",
    "\n",
    "# In order to pull a random word or string from a text file, \n",
    "# we will first open the file in read mode \n",
    "# and then use the methods in Python’s \"random\" module to pick a random word."
   ]
  },
  {
   "cell_type": "code",
   "execution_count": 7,
   "id": "5ba96e38",
   "metadata": {},
   "outputs": [
    {
     "name": "stdout",
     "output_type": "stream",
     "text": [
      "Enter Degrees: 90\n",
      "Radians:  1.57\n"
     ]
    }
   ],
   "source": [
    "# [62] Write a Python program to convert degree to radian.\n",
    "\n",
    "pi=3.14\n",
    "deg=float(input('Enter Degrees: '))\n",
    "rad= deg*pi/180\n",
    "print('Radians: ',rad)"
   ]
  },
  {
   "cell_type": "code",
   "execution_count": 8,
   "id": "f929829c",
   "metadata": {},
   "outputs": [
    {
     "name": "stdout",
     "output_type": "stream",
     "text": [
      "Bottom base value a: 8\n",
      "Upper base value b: 12\n",
      "Height of Trapezoid: 18\n",
      "\n",
      "Area of Trapezoid:  180.0\n"
     ]
    }
   ],
   "source": [
    "# [63] Write a Python program to calculate the area of a trapezoid.\n",
    "\n",
    "bottom_base=int(input('Bottom base value a: '))\n",
    "upper_base=int(input('Upper base value b: '))\n",
    "height=int(input('Height of Trapezoid: '))\n",
    "area=((bottom_base + upper_base)/2)*height\n",
    "print('\\nArea of Trapezoid: ',area)"
   ]
  },
  {
   "cell_type": "code",
   "execution_count": 9,
   "id": "3f7724e0",
   "metadata": {},
   "outputs": [
    {
     "name": "stdout",
     "output_type": "stream",
     "text": [
      "Base value: 10\n",
      "Height value: 12\n",
      "\n",
      "Area of Parallelogram:  120\n"
     ]
    }
   ],
   "source": [
    "# [64] Write a Python program to calculate the area of a parallelogram.\n",
    "\n",
    "base=int(input('Base value: '))\n",
    "height=int(input('Height value: '))\n",
    "area=base*height\n",
    "print('\\nArea of Parallelogram: ',area)"
   ]
  },
  {
   "cell_type": "code",
   "execution_count": 10,
   "id": "69394a8d",
   "metadata": {},
   "outputs": [
    {
     "name": "stdout",
     "output_type": "stream",
     "text": [
      "Radius value: 6\n",
      "Height value: 8\n",
      "\n",
      "Volume of Cylinder:  904.32\n",
      "Area of Cylinder:  527.52\n"
     ]
    }
   ],
   "source": [
    "# [65] Write a Python program to calculate surface volume and area of a cylinder.\n",
    "\n",
    "pi= 3.14\n",
    "radius= int(input('Radius value: '))\n",
    "height= int(input('Height value: '))\n",
    "volume= pi*(radius**2)*height\n",
    "area=(2*pi*radius*height)+(2*pi*(radius**2))\n",
    "print('\\nVolume of Cylinder: ',volume)\n",
    "print('Area of Cylinder: ',area)"
   ]
  },
  {
   "cell_type": "code",
   "execution_count": 11,
   "id": "18ab2922",
   "metadata": {},
   "outputs": [
    {
     "name": "stdout",
     "output_type": "stream",
     "text": [
      "Enter any number: 10\n",
      "Divisors:  [1, 2, 5]\n",
      "Sum of Divisors:  8\n"
     ]
    }
   ],
   "source": [
    "# [66] Write a Python program to returns sum of all divisors of a number.\n",
    "\n",
    "a=[]\n",
    "sum=0\n",
    "n=int(input('Enter any number: '))\n",
    "for i in range(1, n):\n",
    "    if n%i==0:\n",
    "        a.append(i)\n",
    "        sum+=i\n",
    "print('Divisors: ',a)\n",
    "print('Sum of Divisors: ',sum)"
   ]
  },
  {
   "cell_type": "code",
   "execution_count": 16,
   "id": "a7f675cb",
   "metadata": {},
   "outputs": [
    {
     "name": "stdout",
     "output_type": "stream",
     "text": [
      "Max value:  89.36\n",
      "Min value:  2.56\n"
     ]
    }
   ],
   "source": [
    "# [67] Write a Python program to find the maximum and minimum numbers \n",
    "#      from the specified decimal numbers.\n",
    "\n",
    "l1=[2.56, 4.23, 45.66, 8.12, 53.77, 6.25, 89.36, 5.85]\n",
    "print('Max value: ',max(l1))\n",
    "print('Min value: ',min(l1))"
   ]
  },
  {
   "cell_type": "code",
   "execution_count": null,
   "id": "c7fc546c",
   "metadata": {},
   "outputs": [],
   "source": []
  }
 ],
 "metadata": {
  "kernelspec": {
   "display_name": "Python 3 (ipykernel)",
   "language": "python",
   "name": "python3"
  },
  "language_info": {
   "codemirror_mode": {
    "name": "ipython",
    "version": 3
   },
   "file_extension": ".py",
   "mimetype": "text/x-python",
   "name": "python",
   "nbconvert_exporter": "python",
   "pygments_lexer": "ipython3",
   "version": "3.9.12"
  }
 },
 "nbformat": 4,
 "nbformat_minor": 5
}
