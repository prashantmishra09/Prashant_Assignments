{
 "cells": [
  {
   "cell_type": "markdown",
   "id": "57c31631",
   "metadata": {},
   "source": [
    "1. Write a Python program to check if a number is positive, negative or zero."
   ]
  },
  {
   "cell_type": "code",
   "execution_count": 3,
   "id": "730042a0",
   "metadata": {},
   "outputs": [
    {
     "name": "stdout",
     "output_type": "stream",
     "text": [
      "Enter Any Number Here...21\n",
      "Number Is Positive...\n"
     ]
    }
   ],
   "source": [
    "num = int(input(\"Enter Any Number Here...\"))\n",
    "if num > 0:\n",
    "    print (\"Number Is Positive...\")\n",
    "elif num == 0:\n",
    "    print(\"Number Id Zero...\")\n",
    "else:\n",
    "    print(\"Number Is Negative...\")"
   ]
  },
  {
   "cell_type": "markdown",
   "id": "b98567c5",
   "metadata": {},
   "source": [
    "2. Write a Python program to get the Factorial number of given number."
   ]
  },
  {
   "cell_type": "code",
   "execution_count": 5,
   "id": "ac3e0b76",
   "metadata": {},
   "outputs": [
    {
     "name": "stdout",
     "output_type": "stream",
     "text": [
      "Input Number Here...5\n",
      "120\n"
     ]
    }
   ],
   "source": [
    "num = int(input(\"Input Number Here...\"))\n",
    "fact = 1\n",
    "while(num>=2):\n",
    "    fact = fact * num\n",
    "    num-=1\n",
    "print(fact)"
   ]
  },
  {
   "cell_type": "markdown",
   "id": "cbbcd9e5",
   "metadata": {},
   "source": [
    "3. Write a Python program to get the Fibonacci series of given range."
   ]
  },
  {
   "cell_type": "code",
   "execution_count": 6,
   "id": "03ebaac9",
   "metadata": {},
   "outputs": [
    {
     "name": "stdout",
     "output_type": "stream",
     "text": [
      "Enter Number Here...15\n",
      "1\n",
      "1\n",
      "2\n",
      "3\n",
      "5\n",
      "8\n",
      "13\n"
     ]
    }
   ],
   "source": [
    "num = int(input(\"Enter Number Here...\"))\n",
    "x=0\n",
    "y=1\n",
    "\n",
    "while y<num:\n",
    "    print(y)\n",
    "    x,y = y,y+x"
   ]
  },
  {
   "cell_type": "markdown",
   "id": "e7d768cc",
   "metadata": {},
   "source": [
    "4. How memory is managed in Python?"
   ]
  },
  {
   "cell_type": "code",
   "execution_count": null,
   "id": "8ba871db",
   "metadata": {},
   "outputs": [],
   "source": []
  },
  {
   "cell_type": "markdown",
   "id": "86b09c0d",
   "metadata": {},
   "source": [
    "5. What is the purpose continue statement in python?"
   ]
  },
  {
   "cell_type": "code",
   "execution_count": 7,
   "id": "1ac7bff7",
   "metadata": {},
   "outputs": [
    {
     "name": "stdout",
     "output_type": "stream",
     "text": [
      "1\n",
      "2\n",
      "3\n",
      "4\n",
      "5\n",
      "6\n",
      "8\n"
     ]
    }
   ],
   "source": [
    "for num in range (1,9):\n",
    "    if num == 7:\n",
    "        continue\n",
    "    print(num)\n",
    "    \n",
    "#Its Control Statement,\n",
    "#Its Skips the current itration, And Countinues From The Next Itration."
   ]
  },
  {
   "cell_type": "markdown",
   "id": "55b432b0",
   "metadata": {},
   "source": [
    "6. Write python program that swap two number with temp variable and\n",
    "without temp variable"
   ]
  },
  {
   "cell_type": "code",
   "execution_count": 8,
   "id": "516aecc6",
   "metadata": {},
   "outputs": [
    {
     "name": "stdout",
     "output_type": "stream",
     "text": [
      "Enter value of x: 15\n",
      "Enter value of y: 45\n",
      "The value of n1 after swapping: 45\n",
      "The value of n2 after swapping: 15\n"
     ]
    }
   ],
   "source": [
    "# USing Temporary Veriable\n",
    "n1 = input('Enter value of x: ')\n",
    "n2 = input('Enter value of y: ')\n",
    "\n",
    "temp = n1\n",
    "n1 = n2\n",
    "n2 = temp\n",
    "\n",
    "print('The value of n1 after swapping: {}'.format(n1))\n",
    "print('The value of n2 after swapping: {}'.format(n2))"
   ]
  },
  {
   "cell_type": "code",
   "execution_count": 9,
   "id": "cbde8e94",
   "metadata": {},
   "outputs": [
    {
     "name": "stdout",
     "output_type": "stream",
     "text": [
      "Enter value of x: 15\n",
      "Enter value of y: 45\n",
      "The value of n1 after swapping: 45\n",
      "The value of n2 after swapping: 15\n"
     ]
    }
   ],
   "source": [
    "# Without Using Temporary Veriable\n",
    "\n",
    "n1 = int(input('Enter value of x: '))\n",
    "n2 = int(input('Enter value of y: '))\n",
    "\n",
    "n1 = n1 + n2\n",
    "n2 = n1 - n2\n",
    "n1 = n1 - n2\n",
    "\n",
    "print('The value of n1 after swapping: {}'.format(n1))\n",
    "print('The value of n2 after swapping: {}'.format(n2))"
   ]
  },
  {
   "cell_type": "markdown",
   "id": "2b5f6063",
   "metadata": {},
   "source": [
    "7. Write a Python program to find whether a given number is even or odd,print out an appropriate message to the user."
   ]
  },
  {
   "cell_type": "code",
   "execution_count": 10,
   "id": "9035a210",
   "metadata": {},
   "outputs": [
    {
     "name": "stdout",
     "output_type": "stream",
     "text": [
      "Enter Any Number here...15\n",
      "Entered Number Is Even Number\n"
     ]
    }
   ],
   "source": [
    "num = int(input(\"Enter Any Number here...\"))\n",
    "num1 = num % 2\n",
    "if num1 > 0:\n",
    "    print(\"Entered Number Is Even Number\")\n",
    "else:\n",
    "    print(\"Entered Number Is Odd\")"
   ]
  },
  {
   "cell_type": "raw",
   "id": "8f0efacf",
   "metadata": {},
   "source": [
    "8. Write a Python program to test whether a passed letter is a vowel or not."
   ]
  },
  {
   "cell_type": "code",
   "execution_count": 13,
   "id": "4ccd0806",
   "metadata": {},
   "outputs": [
    {
     "name": "stdout",
     "output_type": "stream",
     "text": [
      "Enter the alphabets...a\n",
      "This alphabets is vowel..\n"
     ]
    }
   ],
   "source": [
    "user=input(\"Enter the alphabets...\")\n",
    "if (user=='a' or user=='e' or user=='i' or user=='o' or user=='u' or user=='aeiou'):\n",
    "    print('This alphabets is vowel..')\n",
    "else:\n",
    "    print(\"This alphabets is Constonant.....\")\n"
   ]
  },
  {
   "cell_type": "markdown",
   "id": "d48bab39",
   "metadata": {},
   "source": [
    "9. Write a Python program to sum of three given integers.However, if two values are equal sum will be zero."
   ]
  },
  {
   "cell_type": "code",
   "execution_count": 14,
   "id": "4a6f76a0",
   "metadata": {},
   "outputs": [
    {
     "name": "stdout",
     "output_type": "stream",
     "text": [
      "Enter The Number1 -12\n",
      "Enter The Number2 -45\n",
      "Enter The Number3 -10\n",
      "67\n"
     ]
    }
   ],
   "source": [
    "a=int(input(\"Enter The Number1 -\"))\n",
    "b=int(input(\"Enter The Number2 -\"))\n",
    "c=int(input(\"Enter The Number3 -\"))\n",
    "if a==b or b==c or c==a:\n",
    "    print('Zero')\n",
    "else:\n",
    "    sum = a+b+c\n",
    "    print(sum)"
   ]
  },
  {
   "cell_type": "markdown",
   "id": "7d083ba9",
   "metadata": {},
   "source": [
    "10. Write a Python program that will return true if the two given integer values are equal or their sum or difference is 5"
   ]
  },
  {
   "cell_type": "code",
   "execution_count": 15,
   "id": "55a5cd7f",
   "metadata": {},
   "outputs": [
    {
     "name": "stdout",
     "output_type": "stream",
     "text": [
      "Enter Number 01 - 10\n",
      "Enter Number 02 - 12\n",
      "False\n"
     ]
    }
   ],
   "source": [
    "a = int(input(\"Enter Number 01 - \"))\n",
    "b = int(input(\"Enter Number 02 - \"))\n",
    "\n",
    "sum=a+b\n",
    "c=a-b\n",
    "d=b-a\n",
    "if a==b:\n",
    "    print(\"True\")\n",
    "elif sum == 5:\n",
    "    print(\"True\")\n",
    "elif c == 5:\n",
    "    print(\"True\")\n",
    "elif d == 5:\n",
    "    print(\"True\")\n",
    "else:\n",
    "    print(\"False\")"
   ]
  },
  {
   "cell_type": "markdown",
   "id": "41f1b67a",
   "metadata": {},
   "source": [
    "11. Write a python program to sum of the first n positive integers."
   ]
  },
  {
   "cell_type": "code",
   "execution_count": 1,
   "id": "401ebeda",
   "metadata": {},
   "outputs": [
    {
     "name": "stdout",
     "output_type": "stream",
     "text": [
      "Enter The Number - 2\n",
      "Sum Of Given Number : 2 is 3.0\n"
     ]
    }
   ],
   "source": [
    "num = int(input(\"Enter The Number - \"))\n",
    "sum = (num * (num+1)) / 2\n",
    "print(\"Sum Of Given Number :\", num ,\"is\", sum)"
   ]
  },
  {
   "cell_type": "markdown",
   "id": "f27dd718",
   "metadata": {},
   "source": [
    "12. Write a Python program to calculate the length of a string."
   ]
  },
  {
   "cell_type": "code",
   "execution_count": 2,
   "id": "bb7c2799",
   "metadata": {},
   "outputs": [
    {
     "name": "stdout",
     "output_type": "stream",
     "text": [
      "Enter Your Name Here - Prashant mishra avadhesh \n",
      "25\n"
     ]
    }
   ],
   "source": [
    "str1 = input('Enter Your Name Here - ')\n",
    "str2 = len(str1)\n",
    "print (str2)"
   ]
  },
  {
   "cell_type": "markdown",
   "id": "567815db",
   "metadata": {},
   "source": [
    "13. Write a Python program to count the number of characters (character frequency) in a string"
   ]
  },
  {
   "cell_type": "code",
   "execution_count": 3,
   "id": "c23167c6",
   "metadata": {},
   "outputs": [
    {
     "name": "stdout",
     "output_type": "stream",
     "text": [
      "4\n"
     ]
    }
   ],
   "source": [
    "str1 = 'Prashant Avadhesh Mishra'\n",
    "str2 = str1.count(\"h\")\n",
    "print(str2)"
   ]
  },
  {
   "cell_type": "markdown",
   "id": "5e55ce8f",
   "metadata": {},
   "source": [
    "14. What are negative indexes and why are they used?"
   ]
  },
  {
   "cell_type": "code",
   "execution_count": 32,
   "id": "811f9a1f",
   "metadata": {},
   "outputs": [],
   "source": [
    "# Negative indexing starts from where the array ends.\n",
    "# To access the last elemenys or charecter of a string of array negative indexing is used.\n",
    "# # It is generally used to find the index value of a charecter of elements.  "
   ]
  },
  {
   "cell_type": "markdown",
   "id": "6876eb47",
   "metadata": {},
   "source": [
    "15. Write a Python program to count occurrences of a substring in a string."
   ]
  },
  {
   "cell_type": "code",
   "execution_count": 4,
   "id": "8953b9b8",
   "metadata": {},
   "outputs": [
    {
     "name": "stdout",
     "output_type": "stream",
     "text": [
      "Enter the String - prashant mishra \n",
      "Enter The Repetation String - prashant\n",
      "1\n"
     ]
    }
   ],
   "source": [
    "str1 = input('Enter the String - ')\n",
    "f1 = input('Enter The Repetation String - ')\n",
    "ans = str1.count(f1)\n",
    "print(ans)"
   ]
  },
  {
   "cell_type": "markdown",
   "id": "417437d6",
   "metadata": {},
   "source": [
    "16. Write a Python program to count the occurrences of each word in a given sentence"
   ]
  },
  {
   "cell_type": "code",
   "execution_count": 39,
   "id": "2cfad18c",
   "metadata": {},
   "outputs": [
    {
     "name": "stdout",
     "output_type": "stream",
     "text": [
      "Enter String Here - ronak Mishra \n",
      "r:2\n",
      "o:1\n",
      "n:1\n",
      "a:2\n",
      "k:1\n",
      " :2\n",
      "M:1\n",
      "i:1\n",
      "s:1\n",
      "h:1\n",
      "r:2\n",
      "a:2\n",
      " :2\n"
     ]
    }
   ],
   "source": [
    "str1 = input(\"Enter String Here - \")\n",
    "count = 0\n",
    "for i in str1:\n",
    "    for j in str1:\n",
    "        if i == j:\n",
    "            count = count + 1\n",
    "            \n",
    "    print(i,count,sep=':')\n",
    "    count=0"
   ]
  },
  {
   "cell_type": "markdown",
   "id": "6ec6633a",
   "metadata": {},
   "source": [
    "17. Write a Python program to get a single string from two given strings, separated by a space and swap the first two characters of each string."
   ]
  },
  {
   "cell_type": "code",
   "execution_count": 5,
   "id": "8cd493f5",
   "metadata": {},
   "outputs": [
    {
     "name": "stdout",
     "output_type": "stream",
     "text": [
      "Prishra\n",
      " Mashan\n"
     ]
    }
   ],
   "source": [
    "Str = 'Prashant Mishra'\n",
    "str1=Str[0:2]\n",
    "str2=Str[10:]\n",
    "str3=Str[8:10]\n",
    "str4=Str[2:7]\n",
    "div1=str1+str2\n",
    "div2=str3+str4\n",
    "print(div1)\n",
    "print(div2)"
   ]
  },
  {
   "cell_type": "markdown",
   "id": "30a29774",
   "metadata": {},
   "source": [
    "18. Write a Python program to add 'ing' at the end of a given string (length should be at least 3). If the given string already ends with 'ing' then add 'ly' instead if the string length of the given string is less than 3, leave it unchanged."
   ]
  },
  {
   "cell_type": "code",
   "execution_count": 8,
   "id": "66e66875",
   "metadata": {},
   "outputs": [
    {
     "name": "stdout",
     "output_type": "stream",
     "text": [
      "Enter The String - joking\n",
      "jokly\n"
     ]
    }
   ],
   "source": [
    "str1=input('Enter The String - ')\n",
    "if str1.endswith('ing'):\n",
    "    str2=str1.replace('ing','ly')\n",
    "    print(str2)\n",
    "else:\n",
    "    if str1.count(str1)==3:\n",
    "        print(str1)\n",
    "    else:\n",
    "        str1_join=str1.join(['ing'])\n",
    "        print(str1+str1_join)"
   ]
  },
  {
   "cell_type": "markdown",
   "id": "95d3686f",
   "metadata": {},
   "source": [
    "19. Write a Python program to find the first appearance of the substring 'not'and 'poor' froma given string, if 'not' follows the 'poor', replace the whole 'not'...'poor'substring with 'good'. Return the resulting string."
   ]
  },
  {
   "cell_type": "code",
   "execution_count": 16,
   "id": "7817480f",
   "metadata": {},
   "outputs": [
    {
     "name": "stdout",
     "output_type": "stream",
     "text": [
      "Enter a string: i m poor but not \n"
     ]
    }
   ],
   "source": [
    "str=input(\"Enter a string: \")\n",
    "a=str.index('not')\n",
    "b=str.rindex('poor')\n",
    "c=b+4\n",
    "d=str[a:c]\n",
    "ans=str.replace(d,'good')\n",
    "if a<b:\n",
    "    print(ans)"
   ]
  },
  {
   "cell_type": "markdown",
   "id": "f4460a97",
   "metadata": {},
   "source": [
    "20. Write a Python function that takes a list of words and returns the length of the longest one."
   ]
  },
  {
   "cell_type": "code",
   "execution_count": 18,
   "id": "bee29c77",
   "metadata": {},
   "outputs": [
    {
     "name": "stdout",
     "output_type": "stream",
     "text": [
      "Enter String Here : Hello This Is Prashant Mishra \n",
      "Longest One : Prashant\n",
      "Longest One's Length is :  8\n"
     ]
    }
   ],
   "source": [
    "str1 = input('Enter String Here : ')\n",
    "length=0 \n",
    "for i in str1.split():\n",
    "     if len(i)>length:\n",
    "        length=len(i)\n",
    "        longest_one=i\n",
    "print(\"Longest One :\", longest_one)\n",
    "print(\"Longest One's Length is : \",length)"
   ]
  },
  {
   "cell_type": "markdown",
   "id": "5e3d4da3",
   "metadata": {},
   "source": [
    "21. Write a Python function to reverses a string if its length is a multiple of 4"
   ]
  },
  {
   "cell_type": "code",
   "execution_count": 26,
   "id": "2dd057e4",
   "metadata": {},
   "outputs": [
    {
     "name": "stdout",
     "output_type": "stream",
     "text": [
      "Enter a string: prashant\n",
      "tnahsarp\n"
     ]
    }
   ],
   "source": [
    "str1= input(\"Enter a string: \")\n",
    "str2=len(str1)\n",
    "if str2%4==0:\n",
    "    print(str1[::-1])\n",
    "else:\n",
    "    print('0')"
   ]
  },
  {
   "cell_type": "markdown",
   "id": "def26e6d",
   "metadata": {},
   "source": [
    " \n"
   ]
  },
  {
   "cell_type": "code",
   "execution_count": 30,
   "id": "4e1abb74",
   "metadata": {},
   "outputs": [
    {
     "name": "stdout",
     "output_type": "stream",
     "text": [
      "Enter a string: w\n",
      "Empty String\n"
     ]
    }
   ],
   "source": [
    "# 22. Write a Python program to get a string made of the first 2 and \n",
    "# the last 2 chars from a given a string.\n",
    "# If the string length is lessthan 2, return \"empty string\".\n",
    "\n",
    "# o Sample String:w3resource'\n",
    "# o Expected Result: 'w3ce' \n",
    "# o Sample String: 'w3' \n",
    "# o Expected Result: 'w3w3' \n",
    "# o Sample String: ' w' \n",
    "# o Expected Result: Empty String\n",
    "\n",
    "str=input(\"Enter a string: \")\n",
    "firstTwo= str[0:2]\n",
    "lastTwo= str[-2:]\n",
    "res=firstTwo+lastTwo\n",
    "if len(str)<2:\n",
    "    print(\"Empty String\")\n",
    "elif len(str)==2:\n",
    "    print(str*2)\n",
    "elif len(str)>=3:\n",
    "    print(firstTwo, lastTwo, sep='')"
   ]
  },
  {
   "cell_type": "markdown",
   "id": "e4e41d0d",
   "metadata": {},
   "source": [
    "23. Write a Python function to insert a string in the middle of a string.\n"
   ]
  },
  {
   "cell_type": "code",
   "execution_count": 32,
   "id": "861df986",
   "metadata": {},
   "outputs": [
    {
     "name": "stdout",
     "output_type": "stream",
     "text": [
      "Enter a string: prashant\n",
      "Enter a substring to add in middle of a string:   mishra \n",
      "pras mishra hant\n"
     ]
    }
   ],
   "source": [
    "str=input(\"Enter a string: \")\n",
    "str2=input(\"Enter a substring to add in middle of a string:  \")\n",
    "mid=len(str)//2\n",
    "a=str[:mid]\n",
    "b=str[mid:]\n",
    "ans= f'{a}{str2}{b}'\n",
    "print(ans)"
   ]
  },
  {
   "cell_type": "code",
   "execution_count": null,
   "id": "2cb45324",
   "metadata": {},
   "outputs": [],
   "source": []
  }
 ],
 "metadata": {
  "kernelspec": {
   "display_name": "Python 3 (ipykernel)",
   "language": "python",
   "name": "python3"
  },
  "language_info": {
   "codemirror_mode": {
    "name": "ipython",
    "version": 3
   },
   "file_extension": ".py",
   "mimetype": "text/x-python",
   "name": "python",
   "nbconvert_exporter": "python",
   "pygments_lexer": "ipython3",
   "version": "3.9.12"
  }
 },
 "nbformat": 4,
 "nbformat_minor": 5
}
