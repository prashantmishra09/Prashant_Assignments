{
 "cells": [
  {
   "cell_type": "code",
   "execution_count": 2,
   "id": "8ce38954",
   "metadata": {},
   "outputs": [],
   "source": [
    "# [1] What is File function in python? What is keywords to create and write file.\n",
    "\n",
    "# Python file object provides various modes/methods to manipulate files. like \"read\", \"write\", \"create\", and \"append\".\n",
    "# Keywords to create & write file.\n",
    "# \"x\" - create file\n",
    "# \"w\" - write\n"
   ]
  },
  {
   "cell_type": "code",
   "execution_count": 25,
   "id": "c652292d",
   "metadata": {},
   "outputs": [],
   "source": [
    "# [2] Write a Python program to read an entire text file.\n",
    "\n",
    "# Assume we have already created file \"example.txt\"\n",
    "# To read this file we need to open this file in read mode and save it in any variable.\n",
    "# And at least we must close file.\n",
    "\n",
    "s1= open(r'demofile.txt', 'r')\n",
    "ss= s1.read() # Will read entire file\n",
    "s1.close()"
   ]
  },
  {
   "cell_type": "code",
   "execution_count": 27,
   "id": "3b3ab9e4",
   "metadata": {},
   "outputs": [
    {
     "name": "stdout",
     "output_type": "stream",
     "text": [
      "Rhis Is Prashant MishraThis Is Prashant Mishra\n"
     ]
    }
   ],
   "source": [
    "# [3] Write a Python program to append text to a file and display the text.\n",
    "\n",
    "s1= open(r'demofile.txt', 'r')\n",
    "aa= s1.read()\n",
    "s1.close()\n",
    "s2= open(r'demofile.txt', 'a')\n",
    "bb= s2.write('This Is Prashant Mishra')\n",
    "s2.close()\n",
    "s3= open(r'demofile.txt', 'r')\n",
    "cc= s3.read()\n",
    "s2.close()\n",
    "print(cc)"
   ]
  },
  {
   "cell_type": "code",
   "execution_count": 30,
   "id": "acc20628",
   "metadata": {},
   "outputs": [
    {
     "name": "stdout",
     "output_type": "stream",
     "text": [
      "Rhis Is Prashant \n"
     ]
    }
   ],
   "source": [
    "# [4] Write a Python program to read first n lines of a file.\n",
    "\n",
    "s1= open(r'demofile.txt', 'r')\n",
    "aa= s1.read(17)\n",
    "s1.close()\n",
    "print(aa)"
   ]
  },
  {
   "cell_type": "code",
   "execution_count": 33,
   "id": "9f5d8e5a",
   "metadata": {},
   "outputs": [
    {
     "name": "stdout",
     "output_type": "stream",
     "text": [
      "Is Prashant Mishra\n"
     ]
    }
   ],
   "source": [
    "# [5] Write a Python program to read last n lines of a file.\n",
    "\n",
    "s1= open(r'demofile.txt', 'r')\n",
    "s1.seek(28)\n",
    "aa= s1.read()\n",
    "s1.close()\n",
    "print(aa)"
   ]
  },
  {
   "cell_type": "code",
   "execution_count": 35,
   "id": "ec98e8de",
   "metadata": {},
   "outputs": [
    {
     "name": "stdout",
     "output_type": "stream",
     "text": [
      "['Rhis Is Prashant MishraThis Is Prashant Mishra']\n"
     ]
    }
   ],
   "source": [
    "# [6] Write a Python program to read a file line by line and store it into a list.\n",
    "\n",
    "l1=[]\n",
    "s1= open(r'demofile.txt', 'r')\n",
    "a= s1.read()\n",
    "for i in a:\n",
    "    if a not in l1:\n",
    "        l1.append(a)\n",
    "s1.close()\n",
    "print(l1)"
   ]
  },
  {
   "cell_type": "code",
   "execution_count": 38,
   "id": "fa0aee37",
   "metadata": {},
   "outputs": [
    {
     "name": "stdout",
     "output_type": "stream",
     "text": [
      "Rhis Is Prashant MishraThis Is Prashant Mishra\n"
     ]
    }
   ],
   "source": [
    "# [7] Write a Python program to read a file line by line store it into a variable.\n",
    "\n",
    "a=''\n",
    "s1= open(r'demofile.txt', 'r')\n",
    "j= s1.read()\n",
    "for i in j:\n",
    "    if j not in a:\n",
    "        a+=j\n",
    "s1.close()\n",
    "print(a)"
   ]
  },
  {
   "cell_type": "code",
   "execution_count": 39,
   "id": "309d0870",
   "metadata": {},
   "outputs": [
    {
     "name": "stdout",
     "output_type": "stream",
     "text": [
      "Longest word:  MishraThis\n"
     ]
    }
   ],
   "source": [
    "# [8] Write a python program to find the longest words.\n",
    "\n",
    "s1= open(r'demofile.txt', 'r')\n",
    "j= s1.read()\n",
    "longest= max(j.split(), key=len)\n",
    "s1.close()\n",
    "print('Longest word: ',longest)"
   ]
  },
  {
   "cell_type": "code",
   "execution_count": 42,
   "id": "08f7da39",
   "metadata": {},
   "outputs": [
    {
     "name": "stdout",
     "output_type": "stream",
     "text": [
      "Number of lines:  1\n"
     ]
    }
   ],
   "source": [
    "# [9] Write a Python program to count the number of lines in a text file.\n",
    "\n",
    "s1= open(r'demofile.txt', 'r')\n",
    "j= s1.read()\n",
    "lines= len(j.splitlines())\n",
    "print('Number of lines: ',lines)"
   ]
  },
  {
   "cell_type": "code",
   "execution_count": 46,
   "id": "a018c923",
   "metadata": {},
   "outputs": [
    {
     "name": "stdout",
     "output_type": "stream",
     "text": [
      "{'Rhis': 1, 'Is': 2, 'Prashant': 2, 'MishraThis': 1, 'Mishra': 1}\n"
     ]
    }
   ],
   "source": [
    "# [10] Write a Python program to count the frequency of words in a file.\n",
    "\n",
    "a= {}\n",
    "s1= open(r'demofile.txt', 'r')\n",
    "j= s1.read()\n",
    "pp= j.split()\n",
    "for i in pp:\n",
    "    if i not in a:\n",
    "        a[i]=1\n",
    "    else:\n",
    "        a[i]+=1\n",
    "print(a)"
   ]
  },
  {
   "cell_type": "code",
   "execution_count": 50,
   "id": "f5beb25f",
   "metadata": {},
   "outputs": [
    {
     "name": "stdout",
     "output_type": "stream",
     "text": [
      "Rhis Is Prashant MishraThis Is Prashant Mishra\n",
      "Python\n",
      "DJango\n",
      "Framework\n",
      "Practical\n",
      "Python\n",
      "DJango\n",
      "Framework\n",
      "Practical\n",
      "Python\n",
      "DJango\n",
      "Framework\n",
      "Practical\n"
     ]
    }
   ],
   "source": [
    "# [11] Write a Python program to write a list to a file.\n",
    "\n",
    "j= ['\\nPython', 'DJango', 'Framework','Practical']\n",
    "s1= open(r'demofile.txt', 'a')\n",
    "a= s1.write('\\n'.join(j))\n",
    "s1.close()\n",
    "s2= open(r'demofile.txt', 'r')\n",
    "b= s2.read()\n",
    "s2.close()\n",
    "print(b)"
   ]
  },
  {
   "cell_type": "code",
   "execution_count": 52,
   "id": "417d4278",
   "metadata": {},
   "outputs": [
    {
     "name": "stdout",
     "output_type": "stream",
     "text": [
      "Rhis Is Prashant MishraThis Is Prashant Mishra\n",
      "Python\n",
      "DJango\n",
      "Framework\n",
      "Practical\n",
      "Python\n",
      "DJango\n",
      "Framework\n",
      "Practical\n",
      "Python\n",
      "DJango\n",
      "Framework\n",
      "Practical\n"
     ]
    }
   ],
   "source": [
    "# [12] Write a Python program to copy the contents of a file to another file.\n",
    "\n",
    "s1= open(r'demofile.txt', 'r')\n",
    "j= s1.read()\n",
    "s1.close()\n",
    "s2= open(r'demofile.txt(copy).txt', 'w')\n",
    "for i in j:\n",
    "    s2.write(i)\n",
    "s2.close()\n",
    "s3= open(r'demofile.txt(copy).txt', 'r')\n",
    "b= s3.read()\n",
    "s3.close()\n",
    "print(b)"
   ]
  },
  {
   "cell_type": "code",
   "execution_count": 55,
   "id": "d656cf77",
   "metadata": {},
   "outputs": [],
   "source": [
    "# [13] Explain Exception handling? What is an Error in Python?\n",
    "\n",
    "# Exception is an Python object that represents an Error.\n",
    "# Errors = Exception = Problems\n",
    "# When error raise execution stops.\n"
   ]
  },
  {
   "cell_type": "code",
   "execution_count": 61,
   "id": "4e7814a3",
   "metadata": {},
   "outputs": [],
   "source": [
    "# [14] How many except statements can a try-except block have? Name Some built-in exception classes:\n",
    "\n",
    "# There has to be at least one except block.\n",
    "# Some built-in exceptiions:\n",
    "# SyntaxError, ValueError, NameError, IndexError, TypeError, KeyError, AttributeError, IndentationError, etc...\n"
   ]
  },
  {
   "cell_type": "code",
   "execution_count": 64,
   "id": "fff3672f",
   "metadata": {},
   "outputs": [],
   "source": [
    "# [15] When will the else part of try-except-else be executed?\n",
    "\n",
    "# The else part will be executed \"When No Exception Occurs\".\n"
   ]
  },
  {
   "cell_type": "code",
   "execution_count": 66,
   "id": "6b9be544",
   "metadata": {},
   "outputs": [],
   "source": [
    "# [16] Can one block of except statements handle multiple exception?\n",
    "\n",
    "# Yes, a single block of except statements can handle multiple exceptions,\n",
    "# by listing them within parentheses after the except keyword. \n",
    "# This is called a multi-exception catch.\n"
   ]
  },
  {
   "cell_type": "code",
   "execution_count": 67,
   "id": "6ba9260f",
   "metadata": {},
   "outputs": [],
   "source": [
    "# [17] When is the finally block executed?\n",
    "\n",
    "# Finally block always executes, when Try block exits.\n",
    "# This ensures that the finally block is executed even if an unexpected exception occurs.\n"
   ]
  },
  {
   "cell_type": "code",
   "execution_count": 71,
   "id": "46590929",
   "metadata": {},
   "outputs": [],
   "source": [
    "# [18] What happens when \"1\"== 1 is executed?\n",
    "\n",
    "# It returns False. Because both the operands are of different types.\n"
   ]
  },
  {
   "cell_type": "code",
   "execution_count": 2,
   "id": "50ccfa20",
   "metadata": {},
   "outputs": [
    {
     "name": "stdout",
     "output_type": "stream",
     "text": [
      "Enter an integer: 5\n",
      "2.0\n",
      "This is finally block.\n"
     ]
    }
   ],
   "source": [
    "# [19] How Do You Handle Exceptions With Try/Except/Finally In Python? Explain with coding snippets.\n",
    "\n",
    "try:\n",
    "    a=int(input('Enter an integer: '))\n",
    "    print(10/a)\n",
    "except:\n",
    "    print('This is except block.')\n",
    "finally:\n",
    "    print('This is finally block.')"
   ]
  },
  {
   "cell_type": "code",
   "execution_count": 5,
   "id": "239425b9",
   "metadata": {},
   "outputs": [
    {
     "name": "stdout",
     "output_type": "stream",
     "text": [
      "Enter Odd number: 5\n",
      "Congratulations!!\n",
      "Enter Odd number: 7\n",
      "Congratulations!!\n",
      "Enter Odd number: 4\n"
     ]
    },
    {
     "ename": "ValueError",
     "evalue": "Oops!! Even number entered",
     "output_type": "error",
     "traceback": [
      "\u001b[1;31m---------------------------------------------------------------------------\u001b[0m",
      "\u001b[1;31mValueError\u001b[0m                                Traceback (most recent call last)",
      "Input \u001b[1;32mIn [5]\u001b[0m, in \u001b[0;36m<cell line: 5>\u001b[1;34m()\u001b[0m\n\u001b[0;32m      6\u001b[0m num\u001b[38;5;241m=\u001b[39m \u001b[38;5;28mint\u001b[39m(\u001b[38;5;28minput\u001b[39m(\u001b[38;5;124m'\u001b[39m\u001b[38;5;124mEnter Odd number: \u001b[39m\u001b[38;5;124m'\u001b[39m))\n\u001b[0;32m      7\u001b[0m \u001b[38;5;28;01mif\u001b[39;00m num\u001b[38;5;241m%\u001b[39m\u001b[38;5;241m2\u001b[39m\u001b[38;5;241m==\u001b[39m\u001b[38;5;241m0\u001b[39m:\n\u001b[1;32m----> 8\u001b[0m     \u001b[38;5;28;01mraise\u001b[39;00m \u001b[38;5;167;01mValueError\u001b[39;00m(\u001b[38;5;124m'\u001b[39m\u001b[38;5;124mOops!! Even number entered\u001b[39m\u001b[38;5;124m'\u001b[39m)\n\u001b[0;32m      9\u001b[0m \u001b[38;5;28;01melse\u001b[39;00m:\n\u001b[0;32m     10\u001b[0m     \u001b[38;5;28mprint\u001b[39m(\u001b[38;5;124m'\u001b[39m\u001b[38;5;124mCongratulations!!\u001b[39m\u001b[38;5;124m'\u001b[39m)\n",
      "\u001b[1;31mValueError\u001b[0m: Oops!! Even number entered"
     ]
    }
   ],
   "source": [
    "# [20] Write python program that user to enter only odd numbers, else will raise an exception.\n",
    "\n",
    "class ValueError(Exception):\n",
    "    pass\n",
    "for i in range(3):\n",
    "    num= int(input('Enter Odd number: '))\n",
    "    if num%2==0:\n",
    "        raise ValueError('Oops!! Even number entered')\n",
    "    else:\n",
    "        print('Congratulations!!')"
   ]
  },
  {
   "cell_type": "code",
   "execution_count": 7,
   "id": "c7b7c3b1",
   "metadata": {},
   "outputs": [],
   "source": [
    "# [21] What are oops concepts? Is multiple inheritance supported in java.\n",
    "\n",
    "# - OOPs(Object Oriented Programming) is a programming concept that works on the principles of \n",
    "#   abstraction, encapsulation, inheritance, and polymorphism.\n",
    "# - It allows users to create objects they want and create methods to handle those objects.\n",
    "# - Multiple Inheritence does not support in Java.\n"
   ]
  },
  {
   "cell_type": "code",
   "execution_count": 12,
   "id": "d78dfd4b",
   "metadata": {},
   "outputs": [
    {
     "name": "stdout",
     "output_type": "stream",
     "text": [
      "Hello\n",
      "This is python\n"
     ]
    }
   ],
   "source": [
    "# [22] How to Define a Class in Python? What Is Self? Give An Example Of A Python Class\n",
    "\n",
    "# Syntax: \n",
    "class A:\n",
    "    def __init__(self):\n",
    "        print(\"Hello\")\n",
    "    def fun_name(self):\n",
    "        print('This is python')\n",
    "a1=A()\n",
    "a1.fun_name()\n",
    "\n",
    "# Self points to the current Instance of the class. "
   ]
  },
  {
   "cell_type": "code",
   "execution_count": 15,
   "id": "899c3442",
   "metadata": {},
   "outputs": [
    {
     "name": "stdout",
     "output_type": "stream",
     "text": [
      "45\n"
     ]
    }
   ],
   "source": [
    "# [23] Write a Python class named Rectangle constructed by a length and width and a method which will compute the area of a rectangle\n",
    "\n",
    "class Rectangle:\n",
    "    def __init__(self, length, width):\n",
    "        self.length = length\n",
    "        self.width = width\n",
    "    def result(self):\n",
    "        return self.length*self.width\n",
    "r1=Rectangle(5, 9)\n",
    "\n",
    "print(r1.result())"
   ]
  },
  {
   "cell_type": "code",
   "execution_count": 24,
   "id": "e83fd8dd",
   "metadata": {},
   "outputs": [
    {
     "name": "stdout",
     "output_type": "stream",
     "text": [
      "113.04\n",
      "37.68\n"
     ]
    }
   ],
   "source": [
    "# [24] Write a Python class named Circle constructed by a radius and two methods which will compute the area and the perimeter of a circle\n",
    "\n",
    "class Circle:\n",
    "    def __init__(self, radius):\n",
    "        self.radius = radius\n",
    "    def area(self):\n",
    "        return self.radius**2*3.14\n",
    "    def perimeter(self):\n",
    "        return 2*self.radius*3.14\n",
    "c1= Circle(6)\n",
    "\n",
    "print(c1.area())\n",
    "print(c1.perimeter())"
   ]
  },
  {
   "cell_type": "code",
   "execution_count": 28,
   "id": "42edb401",
   "metadata": {},
   "outputs": [
    {
     "name": "stdout",
     "output_type": "stream",
     "text": [
      "113.04\n",
      "37.68\n"
     ]
    }
   ],
   "source": [
    "# [25] Write a Python class named Circle constructed by a radius and two methods which will compute the area and the perimeter of a circle\n",
    "\n",
    "class Circle:\n",
    "    def __init__(self, radius):\n",
    "        self.radius = radius\n",
    "    def area(self):\n",
    "        return self.radius**2*3.14\n",
    "    def perimeter(self):\n",
    "        return 2*self.radius*3.14\n",
    "c1= Circle(6)\n",
    "\n",
    "print(c1.area())\n",
    "print(c1.perimeter())"
   ]
  },
  {
   "cell_type": "code",
   "execution_count": 31,
   "id": "7ae78dc4",
   "metadata": {},
   "outputs": [],
   "source": [
    "# [26] Explain Inheritance in Python with an example? What is init? Or What Is A Constructor In Python?\n",
    "\n",
    "# Inheritance relationship defines the classes that inherit from other classes as derived, subclass, or sub-type classes.\n",
    "# Base class remains to be the source from which a subclass inherits.\n",
    "# For example, you have a Base class of “Animal,” and a “Lion” is a Derived class. The inheritance will be Lion is an Animal.\n",
    "\n",
    "# A constructor is a special method in a class used to create and initialize an object of a class.\n",
    "# Class ko call karne pe wo class me __init__ method call karta hai."
   ]
  },
  {
   "cell_type": "code",
   "execution_count": 34,
   "id": "d533b09e",
   "metadata": {},
   "outputs": [],
   "source": [
    "# [27] What is Instantiation in terms of OOP terminology?\n",
    "\n",
    "# The processes of creating a new object for a class using a new keyword.\n",
    "# In Python, everything is an instance or an object. \n",
    "# Class constructors, which are like blueprints, allow software engineers to create and initialize objects of a given class. \n",
    "# This instantiation process follows the steps of instance creation and instance initialization and makes those objects ready to us"
   ]
  },
  {
   "cell_type": "code",
   "execution_count": 39,
   "id": "c326237e",
   "metadata": {},
   "outputs": [],
   "source": [
    "# [28] What is used to check whether an object o is an instance of class A?\n",
    "\n",
    "# isinstance() function is used, it returns True if the object is of class A or False if not.\n"
   ]
  },
  {
   "cell_type": "code",
   "execution_count": 42,
   "id": "b63a9830",
   "metadata": {},
   "outputs": [],
   "source": [
    "# [29] What relationship is appropriate for Course and Faculty?\n",
    "\n",
    "# \n"
   ]
  },
  {
   "cell_type": "code",
   "execution_count": 44,
   "id": "7002f3e2",
   "metadata": {},
   "outputs": [],
   "source": [
    "# [30] What relationship is appropriate for Student and Person?\n",
    "\n",
    "# "
   ]
  },
  {
   "cell_type": "code",
   "execution_count": null,
   "id": "4a58afd7",
   "metadata": {},
   "outputs": [],
   "source": []
  }
 ],
 "metadata": {
  "kernelspec": {
   "display_name": "Python 3 (ipykernel)",
   "language": "python",
   "name": "python3"
  },
  "language_info": {
   "codemirror_mode": {
    "name": "ipython",
    "version": 3
   },
   "file_extension": ".py",
   "mimetype": "text/x-python",
   "name": "python",
   "nbconvert_exporter": "python",
   "pygments_lexer": "ipython3",
   "version": "3.9.12"
  }
 },
 "nbformat": 4,
 "nbformat_minor": 5
}
